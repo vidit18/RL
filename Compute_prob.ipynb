{
  "cells": [
    {
      "cell_type": "markdown",
      "metadata": {
        "id": "view-in-github",
        "colab_type": "text"
      },
      "source": [
        "<a href=\"https://colab.research.google.com/github/ramboo1/RL/blob/main/Compute_prob.ipynb\" target=\"_parent\"><img src=\"https://colab.research.google.com/assets/colab-badge.svg\" alt=\"Open In Colab\"/></a>"
      ]
    },
    {
      "cell_type": "markdown",
      "metadata": {
        "id": "0wA6TuS0lLBF"
      },
      "source": [
        "# Probability Drill"
      ]
    },
    {
      "cell_type": "markdown",
      "metadata": {
        "id": "9EdGjV7ylLBI"
      },
      "source": [
        "## Q1. Student grades and absence\n",
        "\n",
        "Download the dataset from Kaggle: \n",
        "\n",
        "https://www.kaggle.com/datasets/uciml/student-alcohol-consumption\n",
        "\n",
        "Compute the probability that a student obtains 80% or more in mathematics, given he/she misses atleast 10 classes. Do this in Python."
      ]
    },
    {
      "cell_type": "code",
      "execution_count": 12,
      "metadata": {
        "colab": {
          "base_uri": "https://localhost:8080/"
        },
        "id": "rIjuQJLolLBJ",
        "outputId": "f605deb4-2540-451f-e469-80ab5c2e0848"
      },
      "outputs": [
        {
          "output_type": "stream",
          "name": "stdout",
          "text": [
            "0.04545454545454545\n"
          ]
        }
      ],
      "source": [
        "import numpy as np\n",
        "import pandas as pd\n",
        "data = pd.read_csv('/content/student-mat.csv')\n",
        "pivot = data.iloc[0:395][['absences', 'G3']]\n",
        "count = len(pivot[(pivot['absences']>10) & (pivot['G3']>16)])\n",
        "count1 = len(pivot[pivot['absences']>10])\n",
        "count2 = len(pivot[pivot['G3']>16])\n",
        "P_a_intersect_b = count/395\n",
        "P_a = count2/395\n",
        "P_b = count1/395\n",
        "P = P_a_intersect_b / P_b\n",
        "print(P)"
      ]
    },
    {
      "cell_type": "markdown",
      "metadata": {
        "id": "MTkp6KBklLBJ"
      },
      "source": [
        "## Q2. The birthday problem\n",
        "\n",
        "Compute the probability of getting a minimum of one overlapping birthday in a random group comprising of 23 persons. \n",
        "\n",
        "Because obtaining random samples again and again is a tedious task, we can do simulations on a computer with assumptions:\n",
        "\n",
        "The birthdays are independent of each other\n",
        "Each possible birthday has the same probability\n",
        "There are only 365 possible birthdays (not 366, since we’re ignoring leap years)\n",
        "\n",
        "Hint# In other words, we’re modeling the process as drawing 23 independent samples from a discrete uniform distribution with parameter n = 365."
      ]
    },
    {
      "cell_type": "code",
      "execution_count": 17,
      "metadata": {
        "colab": {
          "base_uri": "https://localhost:8080/"
        },
        "id": "IdqaZzlglLBT",
        "outputId": "42d20aeb-ce98-42ce-8e89-7d878111403c"
      },
      "outputs": [
        {
          "output_type": "stream",
          "name": "stdout",
          "text": [
            "0.5119\n"
          ]
        }
      ],
      "source": [
        "from random import randint\n",
        "\n",
        "NUM_PEOPLE = 23\n",
        "NUM_POSSIBLE_BIRTHDAYS = 365\n",
        "NUM_TRIALS = 10000\n",
        "\n",
        "def generate_random_birthday():\n",
        "  birthday = randint(1, NUM_POSSIBLE_BIRTHDAYS)\n",
        "  return birthday\n",
        "\n",
        "def generate_k_birthdays(k):\n",
        "  birthdays = [generate_random_birthday() for _ in range(k)]\n",
        "  return birthdays\n",
        "\n",
        "def aloc(birthdays):\n",
        "  unique_birthdays = set(birthdays)\n",
        "\n",
        "  num_birthdays = len(birthdays)\n",
        "  num_unique_birthdays = len(unique_birthdays)\n",
        "  has_coincidence = (num_birthdays != num_unique_birthdays)\n",
        "\n",
        "  return has_coincidence\n",
        "\n",
        "def estimate_p_aloc():\n",
        "  num_aloc = 0\n",
        "  for _ in range(NUM_TRIALS):\n",
        "    birthdays = generate_k_birthdays(NUM_PEOPLE)\n",
        "    has_coincidence = aloc(birthdays)\n",
        "    if has_coincidence:\n",
        "      num_aloc += 1\n",
        "    \n",
        "  p_aloc = num_aloc/ NUM_TRIALS\n",
        "  return p_aloc\n",
        "\n",
        "p_aloc = estimate_p_aloc()\n",
        "print(p_aloc)"
      ]
    },
    {
      "cell_type": "markdown",
      "metadata": {
        "id": "XWFNl_t0lLBU"
      },
      "source": [
        "## Q3. Weight of frogs\n",
        "\n",
        "The weight of a certain species of frog is uniformly distributed between 15 and 25 grams. If you randomly select a frog, what is the probability that the frog weighs between 17 and 19 grams?"
      ]
    },
    {
      "cell_type": "code",
      "execution_count": 18,
      "metadata": {
        "colab": {
          "base_uri": "https://localhost:8080/"
        },
        "id": "77uCHHwHlLBU",
        "outputId": "3301269c-38a5-4814-923f-60fe4dc7fa12"
      },
      "outputs": [
        {
          "output_type": "execute_result",
          "data": {
            "text/plain": [
              "0.2"
            ]
          },
          "metadata": {},
          "execution_count": 18
        }
      ],
      "source": [
        "from scipy.stats import uniform\n",
        "uniform.cdf(x=19, loc=15, scale=10) - uniform.cdf(x=17, loc=15, scale=10)"
      ]
    },
    {
      "cell_type": "markdown",
      "metadata": {
        "id": "VD1IayYxlLBU"
      },
      "source": [
        "## Q4. Telecommunication Industry\n",
        "\n",
        "According to the Telecommunication Industry the average monthly cell phone bill is Rs. 1000 with a standard deviation of Rs. 200.\n",
        "\n",
        "What is the probability that a randomly selected cell phone bill is more than Rs 1200? What is the probability that a randomly selected cell phone bill is between Rs 750 and Rs 1200? What is the probability that a randomly selected cell phone bill is no more than Rs 650? What is the amount above which lies top 15% of cell phone bills? What is the amount below which lies bottom 25% of cell phone bills?\n",
        "\n",
        "Note: This is a problem of normal probability distribution. Though the distribution is not mentioned, in absence of any other information we assume normality in the population."
      ]
    },
    {
      "cell_type": "code",
      "execution_count": 15,
      "metadata": {
        "colab": {
          "base_uri": "https://localhost:8080/"
        },
        "id": "Vp4ucTQSlLBV",
        "outputId": "207f3205-f37b-41f5-b608-d441efd4a3a9"
      },
      "outputs": [
        {
          "output_type": "stream",
          "name": "stdout",
          "text": [
            "0.15865525393145707\n",
            "0.6826894921370859\n"
          ]
        },
        {
          "output_type": "execute_result",
          "data": {
            "text/plain": [
              "865.1020499607837"
            ]
          },
          "metadata": {},
          "execution_count": 15
        }
      ],
      "source": [
        "from scipy import stats\n",
        "a = stats.norm.cdf(1200,1000,200)\n",
        "g = 1-a\n",
        "print(g)\n",
        "\n",
        "b = stats.norm.cdf(750,1000,200)\n",
        "print(a-g)\n",
        "stats.norm.ppf(.15,1000,200)\n",
        "\n",
        "stats.norm.ppf(.25,1000,200)"
      ]
    },
    {
      "cell_type": "markdown",
      "metadata": {
        "id": "XziiQtVelLBV"
      },
      "source": [
        "## Q5. Fruit problem\n",
        "\n",
        "Suppose we own a fruit shop and on an average 3 customers arrive in the shop every 10 minutes. The mean rate here is 3 or λ = 3. Poisson probability distributions can help us answer questions like what is the probability that 5 customers will arrive in the next 10 mins?"
      ]
    },
    {
      "cell_type": "code",
      "execution_count": 16,
      "metadata": {
        "colab": {
          "base_uri": "https://localhost:8080/"
        },
        "id": "a8its-5flLBW",
        "outputId": "d2603ef7-20d0-4f45-bcb0-f95a902acd7b"
      },
      "outputs": [
        {
          "output_type": "execute_result",
          "data": {
            "text/plain": [
              "0.9160820579686966"
            ]
          },
          "metadata": {},
          "execution_count": 16
        }
      ],
      "source": [
        "from scipy.stats import poisson\n",
        "poisson.cdf(k=5, mu=3)"
      ]
    },
    {
      "cell_type": "code",
      "execution_count": null,
      "metadata": {
        "id": "eZnWmMaYlLBW"
      },
      "outputs": [],
      "source": []
    }
  ],
  "metadata": {
    "kernelspec": {
      "display_name": "Python 3",
      "language": "python",
      "name": "python3"
    },
    "language_info": {
      "codemirror_mode": {
        "name": "ipython",
        "version": 3
      },
      "file_extension": ".py",
      "mimetype": "text/x-python",
      "name": "python",
      "nbconvert_exporter": "python",
      "pygments_lexer": "ipython3",
      "version": "3.8.5"
    },
    "colab": {
      "provenance": [],
      "include_colab_link": true
    }
  },
  "nbformat": 4,
  "nbformat_minor": 0
}