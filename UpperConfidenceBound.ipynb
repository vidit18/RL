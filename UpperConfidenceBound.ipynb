{
  "nbformat": 4,
  "nbformat_minor": 0,
  "metadata": {
    "colab": {
      "provenance": []
    },
    "kernelspec": {
      "name": "python3",
      "display_name": "Python 3"
    },
    "language_info": {
      "name": "python"
    }
  },
  "cells": [
    {
      "cell_type": "code",
      "execution_count": null,
      "metadata": {
        "id": "eUbgBG1AcOHf"
      },
      "outputs": [],
      "source": [
        "import pandas as pd\n",
        "data = pd.read_csv(\"/Ads_Optimisation.csv\")"
      ]
    },
    {
      "cell_type": "code",
      "source": [
        "data.head()\n"
      ],
      "metadata": {
        "colab": {
          "base_uri": "https://localhost:8080/",
          "height": 166
        },
        "id": "FPlmDtTHcmFX",
        "outputId": "5ed7944e-b5ac-4a30-e62b-679ff99389e5"
      },
      "execution_count": null,
      "outputs": [
        {
          "output_type": "error",
          "ename": "NameError",
          "evalue": "ignored",
          "traceback": [
            "\u001b[0;31m---------------------------------------------------------------------------\u001b[0m",
            "\u001b[0;31mNameError\u001b[0m                                 Traceback (most recent call last)",
            "\u001b[0;32m<ipython-input-2-304fa4ce4ebd>\u001b[0m in \u001b[0;36m<module>\u001b[0;34m\u001b[0m\n\u001b[0;32m----> 1\u001b[0;31m \u001b[0mdata\u001b[0m\u001b[0;34m.\u001b[0m\u001b[0mhead\u001b[0m\u001b[0;34m(\u001b[0m\u001b[0;34m)\u001b[0m\u001b[0;34m\u001b[0m\u001b[0;34m\u001b[0m\u001b[0m\n\u001b[0m",
            "\u001b[0;31mNameError\u001b[0m: name 'data' is not defined"
          ]
        }
      ]
    },
    {
      "cell_type": "code",
      "source": [],
      "metadata": {
        "id": "Zqp8oHd-egKQ"
      },
      "execution_count": null,
      "outputs": []
    },
    {
      "cell_type": "code",
      "source": [
        "data.shape"
      ],
      "metadata": {
        "colab": {
          "base_uri": "https://localhost:8080/"
        },
        "id": "DnyoBQindQB5",
        "outputId": "d8ca004c-3d95-4e0c-a1ef-9fa26db23f62"
      },
      "execution_count": null,
      "outputs": [
        {
          "output_type": "execute_result",
          "data": {
            "text/plain": [
              "(10000, 10)"
            ]
          },
          "metadata": {},
          "execution_count": 12
        }
      ]
    },
    {
      "cell_type": "code",
      "source": [
        "import random \n",
        "N = 10000\n",
        "d = 10\n",
        "ads_selected = []\n",
        "total_reward =0 \n",
        "for n in range(0,N):\n",
        "  ad = random.randrange(d)\n",
        "  ads_selected.append(ad)\n",
        "  reward = data.values[n,ad]\n",
        "  total_reward = total_reward + reward\n",
        "\n",
        "pd.Series(ads_selected).tail(1000).value_counts(normalize=True)\n"
      ],
      "metadata": {
        "colab": {
          "base_uri": "https://localhost:8080/"
        },
        "id": "GGm3MWQudf3u",
        "outputId": "0bd016ec-5ade-471f-d83e-6d47b49bcf2f"
      },
      "execution_count": null,
      "outputs": [
        {
          "output_type": "execute_result",
          "data": {
            "text/plain": [
              "4    0.118\n",
              "5    0.114\n",
              "9    0.104\n",
              "1    0.099\n",
              "0    0.099\n",
              "3    0.098\n",
              "2    0.097\n",
              "6    0.094\n",
              "8    0.092\n",
              "7    0.085\n",
              "dtype: float64"
            ]
          },
          "metadata": {},
          "execution_count": 20
        }
      ]
    },
    {
      "cell_type": "code",
      "source": [
        "\n",
        "pd.Series(ads_selected).tail(1000).value_counts(normalize=False)\n"
      ],
      "metadata": {
        "colab": {
          "base_uri": "https://localhost:8080/"
        },
        "id": "wVzmnvqig6HU",
        "outputId": "398d27f3-fa8c-420a-fc13-335c4eea9be0"
      },
      "execution_count": null,
      "outputs": [
        {
          "output_type": "execute_result",
          "data": {
            "text/plain": [
              "4    118\n",
              "5    114\n",
              "9    104\n",
              "1     99\n",
              "0     99\n",
              "3     98\n",
              "2     97\n",
              "6     94\n",
              "8     92\n",
              "7     85\n",
              "dtype: int64"
            ]
          },
          "metadata": {},
          "execution_count": 21
        }
      ]
    },
    {
      "cell_type": "code",
      "source": [
        "#Implementing UCB\n",
        "import math\n",
        "N = 10000\n",
        "d = 10\n",
        "ads_selected = []\n",
        "number_of_selections = [0]*d\n",
        "sums_of_reward = [0] * d\n",
        "total_reward = 0\n",
        "\n"
      ],
      "metadata": {
        "id": "IVmSyzxHdyOn"
      },
      "execution_count": null,
      "outputs": []
    },
    {
      "cell_type": "code",
      "source": [
        "for n in range(0,N):\n",
        "  ad = 0\n",
        "  max_upper_bound = 0\n",
        "  for i in range(0,d):\n",
        "    if (number_of_selections[i]>0):\n",
        "      average_reward = sums_of_reward[i]/number_of_selections[i]\n",
        "      delta_i = math.sqrt(2*math.log(n+1)/number_of_selections[i])\n",
        "      upper_bound = average_reward + delta_i\n",
        "    else:\n",
        "      upper_bound = 1e400\n",
        "      if upper_bound> max_upper_bound:\n",
        "        max_upper_bound= upper_bound\n",
        "        ad = i\n",
        "  ads_selected.append(ad)\n",
        "  number_of_selections[ad] += 1\n",
        "  reward = data.values[n,ad]\n",
        "  sums_of_reward[ad] += reward\n"
      ],
      "metadata": {
        "id": "TpLKJoabmgWJ"
      },
      "execution_count": null,
      "outputs": []
    },
    {
      "cell_type": "code",
      "source": [
        "pd.Series(ads_selected).tail(1500).value_counts(normalize=True)"
      ],
      "metadata": {
        "colab": {
          "base_uri": "https://localhost:8080/"
        },
        "id": "NJOjMsiEofpM",
        "outputId": "3d49e44e-d27a-49fa-9d7c-d92bb7a20166"
      },
      "execution_count": null,
      "outputs": [
        {
          "output_type": "execute_result",
          "data": {
            "text/plain": [
              "0    1.0\n",
              "dtype: float64"
            ]
          },
          "metadata": {},
          "execution_count": 29
        }
      ]
    },
    {
      "cell_type": "code",
      "source": [],
      "metadata": {
        "id": "DFttzL9vpMXH"
      },
      "execution_count": null,
      "outputs": []
    }
  ]
}